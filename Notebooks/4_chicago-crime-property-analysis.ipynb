{
 "cells": [
  {
   "cell_type": "markdown",
   "id": "13be6c52-1aaf-4e95-8229-05e6a7122647",
   "metadata": {},
   "source": [
    "## Chicago Crime and Property Analysis\n",
    "### Over time, does a change in crime, imapct housing prices in Chicago?\n",
    "## Null Hypothesis\n",
    "* There is no corelation between %change in crime data & %change in home prices. If crime increases within community, housing price doesn't decrease in that specific community.\n",
    "## Hypothesis\n",
    "* An increase in crime, over a period, will negatively impact home prices in an Chicago community. Conversely, a decrease in crime, over a period, will positively impact home prices in an Chicago community."
   ]
  },
  {
   "cell_type": "code",
   "execution_count": 1,
   "id": "f45ffe23-474b-48d6-87d2-9ae2a9bb21f4",
   "metadata": {},
   "outputs": [],
   "source": [
    "import pandas as pd\n",
    "import matplotlib.pyplot as plt\n",
    "import seaborn as sns\n",
    "import scipy.stats as stats\n",
    "import statsmodels.api as sm\n",
    "\n",
    "pd.set_option('display.max_rows', None) \n",
    "pd.set_option('display.max_columns', None) \n",
    "pd.set_option('display.width', None) \n",
    "pd.set_option('display.max_colwidth', None)"
   ]
  },
  {
   "cell_type": "code",
   "execution_count": 2,
   "id": "b9f77753-19f2-4fb9-b07c-a2ba2c3b2c2c",
   "metadata": {},
   "outputs": [],
   "source": [
    "merged_df = pd.read_csv(\"C:/Users/Rashid/Documents/my_projects/chicago-crime-prop/data/merged_df_2.csv\")"
   ]
  },
  {
   "cell_type": "code",
   "execution_count": 3,
   "id": "078eb70e-745e-410a-9cb4-396204321e2c",
   "metadata": {},
   "outputs": [
    {
     "data": {
      "text/html": [
       "<div>\n",
       "<style scoped>\n",
       "    .dataframe tbody tr th:only-of-type {\n",
       "        vertical-align: middle;\n",
       "    }\n",
       "\n",
       "    .dataframe tbody tr th {\n",
       "        vertical-align: top;\n",
       "    }\n",
       "\n",
       "    .dataframe thead th {\n",
       "        text-align: right;\n",
       "    }\n",
       "</style>\n",
       "<table border=\"1\" class=\"dataframe\">\n",
       "  <thead>\n",
       "    <tr style=\"text-align: right;\">\n",
       "      <th></th>\n",
       "      <th>style</th>\n",
       "      <th>beds</th>\n",
       "      <th>full_baths</th>\n",
       "      <th>sold_price</th>\n",
       "      <th>last_sold_date</th>\n",
       "      <th>latitude</th>\n",
       "      <th>longitude</th>\n",
       "      <th>community</th>\n",
       "      <th>Neighborhood</th>\n",
       "      <th>year</th>\n",
       "      <th>Crime_Rate_per_1000</th>\n",
       "      <th>Income_Per_Capita</th>\n",
       "      <th>Employment_Rate</th>\n",
       "    </tr>\n",
       "  </thead>\n",
       "  <tbody>\n",
       "    <tr>\n",
       "      <th>0</th>\n",
       "      <td>MULTI_FAMILY</td>\n",
       "      <td>4.0</td>\n",
       "      <td>2.0</td>\n",
       "      <td>85000.0</td>\n",
       "      <td>2015-01-30</td>\n",
       "      <td>41.774262</td>\n",
       "      <td>-87.660084</td>\n",
       "      <td>WEST ENGLEWOOD</td>\n",
       "      <td>West Side</td>\n",
       "      <td>2015</td>\n",
       "      <td>25.872026</td>\n",
       "      <td>763.33093</td>\n",
       "      <td>0.299174</td>\n",
       "    </tr>\n",
       "    <tr>\n",
       "      <th>1</th>\n",
       "      <td>OTHER</td>\n",
       "      <td>6.0</td>\n",
       "      <td>3.0</td>\n",
       "      <td>20000.0</td>\n",
       "      <td>2015-01-29</td>\n",
       "      <td>41.772228</td>\n",
       "      <td>-87.671654</td>\n",
       "      <td>WEST ENGLEWOOD</td>\n",
       "      <td>West Side</td>\n",
       "      <td>2015</td>\n",
       "      <td>25.872026</td>\n",
       "      <td>763.33093</td>\n",
       "      <td>0.299174</td>\n",
       "    </tr>\n",
       "  </tbody>\n",
       "</table>\n",
       "</div>"
      ],
      "text/plain": [
       "          style  beds  full_baths  sold_price last_sold_date   latitude  \\\n",
       "0  MULTI_FAMILY   4.0         2.0     85000.0     2015-01-30  41.774262   \n",
       "1         OTHER   6.0         3.0     20000.0     2015-01-29  41.772228   \n",
       "\n",
       "   longitude       community Neighborhood  year  Crime_Rate_per_1000  \\\n",
       "0 -87.660084  WEST ENGLEWOOD    West Side  2015            25.872026   \n",
       "1 -87.671654  WEST ENGLEWOOD    West Side  2015            25.872026   \n",
       "\n",
       "   Income_Per_Capita  Employment_Rate  \n",
       "0          763.33093         0.299174  \n",
       "1          763.33093         0.299174  "
      ]
     },
     "execution_count": 3,
     "metadata": {},
     "output_type": "execute_result"
    }
   ],
   "source": [
    "merged_df.head(2)"
   ]
  },
  {
   "cell_type": "code",
   "execution_count": 4,
   "id": "d985d1ed-4513-4092-b3aa-c2c33e51811a",
   "metadata": {},
   "outputs": [
    {
     "name": "stderr",
     "output_type": "stream",
     "text": [
      "C:\\Users\\Rashid\\AppData\\Local\\Temp\\ipykernel_1968\\1267259671.py:2: FutureWarning: The default fill_method='ffill' in SeriesGroupBy.pct_change is deprecated and will be removed in a future version. Either fill in any non-leading NA values prior to calling pct_change or specify 'fill_method=None' to not fill NA values.\n",
      "  merged_df['Crime_Rate_per_1000_pct_change'] = merged_df.groupby('community')['Crime_Rate_per_1000'].pct_change() * 100\n"
     ]
    }
   ],
   "source": [
    "# calculate year-over-year percentage change in Crime Rate and Sold Price\n",
    "merged_df['Crime_Rate_per_1000_pct_change'] = merged_df.groupby('community')['Crime_Rate_per_1000'].pct_change() * 100\n",
    "merged_df['sold_price_pct_change'] = merged_df.groupby('community')['sold_price'].pct_change() * 100"
   ]
  },
  {
   "cell_type": "code",
   "execution_count": 5,
   "id": "2e10e7e1-425b-4eb7-a4e6-9c35328d7704",
   "metadata": {},
   "outputs": [],
   "source": [
    "merged_df.dropna(subset=['Crime_Rate_per_1000_pct_change', 'sold_price_pct_change'], inplace=True)\n"
   ]
  },
  {
   "cell_type": "code",
   "execution_count": 6,
   "id": "3be70083-f36c-408b-8da1-0b10679bfed2",
   "metadata": {},
   "outputs": [
    {
     "data": {
      "image/png": "[encoded data removed]",
      "text/plain": [
       "<Figure size 640x480 with 1 Axes>"
      ]
     },
     "metadata": {},
     "output_type": "display_data"
    },
    {
     "name": "stdout",
     "output_type": "stream",
     "text": [
      "Correlation: -0.0007125924724531066, P-value: 0.7493893921898147\n",
      "                              OLS Regression Results                             \n",
      "=================================================================================\n",
      "Dep. Variable:     sold_price_pct_change   R-squared:                       0.000\n",
      "Model:                               OLS   Adj. R-squared:                 -0.000\n",
      "Method:                    Least Squares   F-statistic:                    0.1020\n",
      "Date:                   Wed, 15 May 2024   Prob (F-statistic):              0.749\n",
      "Time:                           08:24:41   Log-Likelihood:            -2.5641e+06\n",
      "No. Observations:                 200962   AIC:                         5.128e+06\n",
      "Df Residuals:                     200960   BIC:                         5.128e+06\n",
      "Df Model:                              1                                         \n",
      "Covariance Type:               nonrobust                                         \n",
      "==================================================================================================\n",
      "                                     coef    std err          t      P>|t|      [0.025      0.975]\n",
      "--------------------------------------------------------------------------------------------------\n",
      "const                            266.9149    187.751      1.422      0.155    -101.073     634.903\n",
      "Crime_Rate_per_1000_pct_change    -4.2081     13.173     -0.319      0.749     -30.027      21.611\n",
      "===============================================================================\n",
      "Omnibus:                  1218443.481   Durbin-Watson:                    2.000\n",
      "Prob(Omnibus):                  0.000   Jarque-Bera (JB):   322499606478120.750\n",
      "Skew:                         440.773   Prob(JB):                          0.00\n",
      "Kurtosis:                  196252.637   Cond. No.                          14.3\n",
      "===============================================================================\n",
      "\n",
      "Notes:\n",
      "[1] Standard Errors assume that the covariance matrix of the errors is correctly specified.\n"
     ]
    }
   ],
   "source": [
    "# scatter plot to visualize the relationship\n",
    "sns.scatterplot(x='Crime_Rate_per_1000_pct_change', y='sold_price_pct_change', data=merged_df)\n",
    "plt.xlabel('% Change in Crime Rate')\n",
    "plt.ylabel('% Change in Sold Price')\n",
    "plt.title('% Change in Crime Rate vs. Sold Price')\n",
    "plt.show()\n",
    "\n",
    "# correlation\n",
    "correlation, p_value = stats.pearsonr(merged_df['Crime_Rate_per_1000_pct_change'], merged_df['sold_price_pct_change'])\n",
    "print(f'Correlation: {correlation}, P-value: {p_value}')\n",
    "\n",
    "# regression Analysis\n",
    "X = merged_df['Crime_Rate_per_1000_pct_change']\n",
    "Y = merged_df['sold_price_pct_change']\n",
    "X = sm.add_constant(X)  \n",
    "\n",
    "model = sm.OLS(Y, X).fit()\n",
    "predictions = model.predict(X)\n",
    "\n",
    "print(model.summary())\n"
   ]
  },
  {
   "cell_type": "markdown",
   "id": "8c4388f9-75e4-4553-849f-1cb705c2ee27",
   "metadata": {},
   "source": [
    "## Results of Statistical Analysis\r\n",
    "\r\n",
    "### Correlation:\r\n",
    "- **Correlation coefficient:** -0.0007\r\n",
    "  - This very small negative value indicates a negligible linear relationship between the percentage change in crime rates and the percentage change in housing prices.\r\n",
    "- **P-value:** 0.749\r\n",
    "  - Since the p-value is much greater than 0.05, we fail to reject the null hypothesis. This means that any observed correlation is not statistically significant.\r\n",
    "\r\n",
    "### Regression Analysis:\r\n",
    "- **R-squared:** 0.000\r\n",
    "  - This indicates that 0% of the variance in the percentage change in sold prices is explained by the percentage change in crime rates.\r\n",
    "- **F-statistic:** 0.1020, **Prob (F-statistic):** 0.749\r\n",
    "  - The F-statistic and its p-value indicate that the overall regression model is not statistically significant.\r\n",
    "- **Coefficient for Crime_Rate_per_1000_pct_change:** -4.2081 with a p-value of 0.749\r\n",
    "  - This suggests that changes in crime rates do not have a statistically significant impact on changes in housing prices.\r\n",
    "\r\n",
    "### Conclusion\r\n",
    "Based on these results, we do not have sufficient evidence to reject the null hypothesis. This implies that, according to the data and the analysis conducted, changes in crime rates do not significantly impact housing prices in Chicago communities.\r\n",
    "go communities.\n"
   ]
  },
  {
   "cell_type": "markdown",
   "id": "c6750b7d-1871-4164-93fe-d376944d22ff",
   "metadata": {},
   "source": [
    "## Further Aanalysis"
   ]
  },
  {
   "cell_type": "markdown",
   "id": "bcd9e778-9bcd-4a5e-83e7-9b21db8a4af1",
   "metadata": {},
   "source": [
    "We include additional variables that might affect housing prices, such as economic conditions and changes in employment rates."
   ]
  },
  {
   "cell_type": "code",
   "execution_count": 7,
   "id": "bc285f33-4786-4675-b087-4722425e0501",
   "metadata": {},
   "outputs": [
    {
     "name": "stdout",
     "output_type": "stream",
     "text": [
      "                              OLS Regression Results                             \n",
      "=================================================================================\n",
      "Dep. Variable:     sold_price_pct_change   R-squared:                       0.000\n",
      "Model:                               OLS   Adj. R-squared:                  0.000\n",
      "Method:                    Least Squares   F-statistic:                     1.265\n",
      "Date:                   Wed, 15 May 2024   Prob (F-statistic):              0.285\n",
      "Time:                           08:24:49   Log-Likelihood:            -2.5632e+06\n",
      "No. Observations:                 200887   AIC:                         5.126e+06\n",
      "Df Residuals:                     200883   BIC:                         5.126e+06\n",
      "Df Model:                              3                                         \n",
      "Covariance Type:               nonrobust                                         \n",
      "==================================================================================================\n",
      "                                     coef    std err          t      P>|t|      [0.025      0.975]\n",
      "--------------------------------------------------------------------------------------------------\n",
      "const                            267.7133    187.860      1.425      0.154    -100.487     635.914\n",
      "Crime_Rate_per_1000_pct_change    -4.0143     13.178     -0.305      0.761     -29.842      21.814\n",
      "Income_Per_Capita_pct_change     280.7785    297.591      0.944      0.345    -302.493     864.050\n",
      "Employment_Rate_pct_change      -883.6544    474.360     -1.863      0.062   -1813.388      46.079\n",
      "===============================================================================\n",
      "Omnibus:                  1217937.037   Durbin-Watson:                    2.000\n",
      "Prob(Omnibus):                  0.000   Jarque-Bera (JB):   322161885246673.812\n",
      "Skew:                         440.701   Prob(JB):                          0.00\n",
      "Kurtosis:                  196186.465   Cond. No.                          36.8\n",
      "===============================================================================\n",
      "\n",
      "Notes:\n",
      "[1] Standard Errors assume that the covariance matrix of the errors is correctly specified.\n"
     ]
    }
   ],
   "source": [
    "merged_df['Income_Per_Capita_pct_change'] = merged_df.groupby('community')['Income_Per_Capita'].pct_change() * 100\n",
    "merged_df['Employment_Rate_pct_change'] = merged_df.groupby('community')['Employment_Rate'].pct_change() * 100\n",
    "\n",
    "merged_df.dropna(subset=['Crime_Rate_per_1000_pct_change', 'sold_price_pct_change', 'Income_Per_Capita_pct_change', 'Employment_Rate_pct_change'], inplace=True)\n",
    "\n",
    "# regression Analysis with additional variables\n",
    "X = merged_df[['Crime_Rate_per_1000_pct_change', 'Income_Per_Capita_pct_change', 'Employment_Rate_pct_change']]\n",
    "Y = merged_df['sold_price_pct_change']\n",
    "X = sm.add_constant(X)  \n",
    "\n",
    "model = sm.OLS(Y, X).fit()\n",
    "predictions = model.predict(X)\n",
    "\n",
    "print(model.summary())"
   ]
  },
  {
   "cell_type": "markdown",
   "id": "ca1d5c5a-6561-45be-8035-72912086401b",
   "metadata": {},
   "source": [
    "## Results Interpretation\n",
    "\n",
    "- **R-squared:** 0.000\n",
    "  - This indicates that 0% of the variance in the percentage change in sold prices is explained by the model, which includes changes in crime rates, income, and employment rates.\n",
    "- **F-statistic:** 1.265, **Prob (F-statistic):** 0.285\n",
    "  - The F-statistic and its p-value indicate that the overall regression model is not statistically significant.\n",
    "\n",
    "### Coefficients and P-values:\n",
    "\n",
    "- **Crime_Rate_per_1000_pct_change:** \n",
    "  - Coefficient = -4.0143, p-value = 0.761\n",
    "  - The p-value is much greater than 0.05, indicating that the effect of changes in crime rates on sold prices is not statistically significant.\n",
    "  \n",
    "- **Income_Per_Capita_pct_change:** \n",
    "  - Coefficient = 280.7785, p-value = 0.345\n",
    "  - The p-value is greater than 0.05, indicating that the effect of changes in income per capita on sold prices is not statistically significant.\n",
    "  \n",
    "- **Employment_Rate_pct_change:** \n",
    "  - Coefficient = -883.6544, p-value = 0.062\n",
    "  - The p-value is close to 0.05 but still not less than 0.05, indicating that the effect of changes in employment rates on sold prices is marginally significant.\n",
    "\n",
    "## Conclusion\n",
    "\n",
    "Based on these results, we still fail to reject the null hypothesis. The data that includes additional variables does not provide sufficient evidence to support the hypothesis that changes in crime rates have a significant impact on housing prices in Chicago communities.\n"
   ]
  }
 ],
 "metadata": {
  "kernelspec": {
   "display_name": "Python 3 (ipykernel)",
   "language": "python",
   "name": "python3"
  },
  "language_info": {
   "codemirror_mode": {
    "name": "ipython",
    "version": 3
   },
   "file_extension": ".py",
   "mimetype": "text/x-python",
   "name": "python",
   "nbconvert_exporter": "python",
   "pygments_lexer": "ipython3",
   "version": "3.11.7"
  }
 },
 "nbformat": 4,
 "nbformat_minor": 5
}
