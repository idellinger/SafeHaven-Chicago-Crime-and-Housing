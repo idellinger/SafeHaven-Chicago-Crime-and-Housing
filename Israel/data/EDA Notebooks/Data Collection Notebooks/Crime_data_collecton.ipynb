{
 "cells": [
  {
   "cell_type": "code",
   "execution_count": 1,
   "metadata": {},
   "outputs": [
    {
     "name": "stdout",
     "output_type": "stream",
     "text": [
      "Total rows retrieved: 60000\n"
     ]
    }
   ],
   "source": [
    "import requests\n",
    "import pandas as pd\n",
    "\n",
    "url = \"https://data.cityofchicago.org/resource/9hwr-2zxp.json\"\n",
    "total_rows = 60000\n",
    "chunk_size = 1000\n",
    "offset = 0\n",
    "dataframes = []\n",
    "\n",
    "while offset < total_rows:\n",
    "    params = {'$limit': chunk_size, '$offset': offset}\n",
    "    response = requests.get(url, params=params)\n",
    "\n",
    "    if response.status_code == 200:\n",
    "        data = response.json()\n",
    "        if len(data) == 0:  \n",
    "            break\n",
    "        df = pd.DataFrame(data)\n",
    "        dataframes.append(df)\n",
    "        offset += chunk_size\n",
    "    else:\n",
    "        print(\"Failed to retrieve data. Status code:\", response.status_code)\n",
    "        break\n",
    "\n",
    "final_df = pd.concat(dataframes, ignore_index=True)\n",
    "\n",
    "print(\"Total rows retrieved:\", len(final_df))\n",
    "\n",
    "filename = \"CrimeData_Chicago.csv\"\n",
    "final_df.to_csv(filename, index=False)"
   ]
  },
  {
   "cell_type": "code",
   "execution_count": 2,
   "metadata": {},
   "outputs": [
    {
     "name": "stdout",
     "output_type": "stream",
     "text": [
      "<class 'pandas.core.frame.DataFrame'>\n",
      "RangeIndex: 60000 entries, 0 to 59999\n",
      "Data columns (total 22 columns):\n",
      " #   Column                Non-Null Count  Dtype \n",
      "---  ------                --------------  ----- \n",
      " 0   date                  60000 non-null  object\n",
      " 1   district              60000 non-null  object\n",
      " 2   block                 60000 non-null  object\n",
      " 3   description           60000 non-null  object\n",
      " 4   location_description  59758 non-null  object\n",
      " 5   updated_on            60000 non-null  object\n",
      " 6   community_area        60000 non-null  object\n",
      " 7   iucr                  60000 non-null  object\n",
      " 8   ward                  60000 non-null  object\n",
      " 9   case_number           60000 non-null  object\n",
      " 10  year                  60000 non-null  object\n",
      " 11  domestic              60000 non-null  bool  \n",
      " 12  fbi_code              60000 non-null  object\n",
      " 13  beat                  60000 non-null  object\n",
      " 14  primary_type          60000 non-null  object\n",
      " 15  arrest                60000 non-null  bool  \n",
      " 16  id                    60000 non-null  object\n",
      " 17  location              59204 non-null  object\n",
      " 18  y_coordinate          59204 non-null  object\n",
      " 19  latitude              59204 non-null  object\n",
      " 20  x_coordinate          59204 non-null  object\n",
      " 21  longitude             59204 non-null  object\n",
      "dtypes: bool(2), object(20)\n",
      "memory usage: 9.3+ MB\n"
     ]
    }
   ],
   "source": [
    "final_df.info()"
   ]
  }
 ],
 "metadata": {
  "kernelspec": {
   "display_name": "Python 3",
   "language": "python",
   "name": "python3"
  },
  "language_info": {
   "codemirror_mode": {
    "name": "ipython",
    "version": 3
   },
   "file_extension": ".py",
   "mimetype": "text/x-python",
   "name": "python",
   "nbconvert_exporter": "python",
   "pygments_lexer": "ipython3",
   "version": "3.10.13"
  }
 },
 "nbformat": 4,
 "nbformat_minor": 2
}
