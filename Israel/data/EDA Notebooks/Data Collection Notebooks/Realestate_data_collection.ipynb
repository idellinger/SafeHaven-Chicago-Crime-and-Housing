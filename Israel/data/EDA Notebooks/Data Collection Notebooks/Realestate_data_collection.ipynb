{
 "cells": [
  {
   "cell_type": "code",
   "execution_count": null,
   "metadata": {},
   "outputs": [],
   "source": [
    "import time\n",
    "from homeharvest import scrape_property\n",
    "from datetime import datetime, timedelta\n",
    "import pandas as pd\n",
    "\n",
    "properties_list = []\n",
    "start_date = datetime.now() - timedelta(days=3650)\n",
    "end_date = datetime.now()\n",
    "date_range = (end_date - start_date).days\n",
    "segments = 73  # Adjust the number of segments as necessary\n",
    "days_per_request = date_range // segments\n",
    "\n",
    "for i in range(segments):\n",
    "    date_from = start_date + timedelta(days=i * days_per_request)\n",
    "    date_to = date_from + timedelta(days=days_per_request)\n",
    "\n",
    "    partial_properties = scrape_property(\n",
    "        location=\"Chicago, IL\",\n",
    "        listing_type=\"sold\",\n",
    "        date_from=date_from.strftime(\"%Y-%m-%d\"),\n",
    "        date_to=date_to.strftime(\"%Y-%m-%d\"),\n",
    "\n",
    "        proxy= \"\"\n",
    "    )\n",
    "\n",
    "    print(f\"Segment {i+1}, Number of properties: {len(partial_properties)}\")\n",
    "    properties_list.append(partial_properties)\n",
    "\n",
    "    # Introduce a delay of 1 second between requests\n",
    "    time.sleep(1)\n",
    "\n",
    "# Combine all segments into one DataFrame\n",
    "all_properties = pd.concat(properties_list, ignore_index=True)\n",
    "print(f\"Total Number of properties: {len(all_properties)}\")\n",
    "\n",
    "# Save to CSV\n",
    "filename = \"HomeHarvest_Chicago.csv\"\n",
    "all_properties.to_csv(filename, index=False)"
   ]
  }
 ],
 "metadata": {
  "kernelspec": {
   "display_name": "Python 3",
   "language": "python",
   "name": "python3"
  },
  "language_info": {
   "codemirror_mode": {
    "name": "ipython",
    "version": 3
   },
   "file_extension": ".py",
   "mimetype": "text/x-python",
   "name": "python",
   "nbconvert_exporter": "python",
   "pygments_lexer": "ipython3",
   "version": "3.10.13"
  }
 },
 "nbformat": 4,
 "nbformat_minor": 2
}
